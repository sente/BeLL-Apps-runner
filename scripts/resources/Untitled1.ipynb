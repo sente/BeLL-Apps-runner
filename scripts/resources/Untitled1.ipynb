{
 "cells": [
  {
   "cell_type": "code",
   "execution_count": 2,
   "metadata": {
    "collapsed": true
   },
   "outputs": [],
   "source": [
    "import os"
   ]
  },
  {
   "cell_type": "code",
   "execution_count": 3,
   "metadata": {
    "collapsed": true
   },
   "outputs": [],
   "source": [
    "import sys"
   ]
  },
  {
   "cell_type": "code",
   "execution_count": 4,
   "metadata": {
    "collapsed": true
   },
   "outputs": [],
   "source": [
    "print \"hi\""
   ]
  },
  {
   "cell_type": "code",
   "execution_count": 2,
   "metadata": {
    "collapsed": false
   },
   "outputs": [
    {
     "data": {
      "text/plain": [
       "['.ipynb_checkpoints',\n",
       " 'a',\n",
       " 'abc.town',\n",
       " 'abcd.town',\n",
       " 'allkeys.csv',\n",
       " 'attachment_list.csv',\n",
       " 'attachments',\n",
       " 'b',\n",
       " 'bible.json',\n",
       " 'corebell-resources.xls',\n",
       " 'corebell.resources.json',\n",
       " 'corebell.txt',\n",
       " 'data',\n",
       " 'delete.logs',\n",
       " 'delete_attachments.py',\n",
       " 'delete_script.py',\n",
       " 'di_tools.py',\n",
       " 'di_tools.py.1',\n",
       " 'di_tools.pyc',\n",
       " 'Diff.html',\n",
       " 'dogitown',\n",
       " 'download_resources_for_dogi.py',\n",
       " 'ds.csv',\n",
       " 'ds.html',\n",
       " 'ds.xls',\n",
       " 'ds.xlsx',\n",
       " 'ds_out.csv',\n",
       " 'dump_couchdb_database.py',\n",
       " 'emily.csv',\n",
       " 'emily.xls',\n",
       " 'emily.xlsx',\n",
       " 'file.tsv',\n",
       " 'file2.tsv',\n",
       " 'foo.json',\n",
       " 'foobar.ipynb',\n",
       " 'get_all_design_docs.py',\n",
       " 'json_2_csv.py',\n",
       " 'just4.html',\n",
       " 'just4.xls',\n",
       " 'language.py',\n",
       " 'lookup.txt',\n",
       " 'new.json',\n",
       " 'newa.json',\n",
       " 'nopdfjs.couch',\n",
       " 'old.json',\n",
       " 'olda.json',\n",
       " 'range.txt',\n",
       " 'res_his.py',\n",
       " 'res_his2.py',\n",
       " 'res_history.py',\n",
       " 'resource_tags.json',\n",
       " 'resources',\n",
       " 'resources.csv',\n",
       " 'resources.json',\n",
       " 'resources1.json',\n",
       " 'resources_cleanup_log.csv',\n",
       " 'save-jpgs.py',\n",
       " 'syria',\n",
       " 'thedocs.json',\n",
       " 'thedsocs.json',\n",
       " 'uniq_level_combos.csv',\n",
       " 'uniq_subject_combos.csv',\n",
       " 'unique_levels.csv',\n",
       " 'unique_levels_combos.csv',\n",
       " 'unique_subject_combos.csv',\n",
       " 'unique_subjects.csv',\n",
       " 'Untitled.ipynb',\n",
       " 'Untitled1.ipynb',\n",
       " 'urls.csv',\n",
       " 'utils.py',\n",
       " 'utils.pyc',\n",
       " 'views.js',\n",
       " 'whynot.py']"
      ]
     },
     "execution_count": 2,
     "metadata": {},
     "output_type": "execute_result"
    }
   ],
   "source": [
    "os.listdir(\".\")"
   ]
  },
  {
   "cell_type": "code",
   "execution_count": null,
   "metadata": {
    "collapsed": true
   },
   "outputs": [],
   "source": []
  }
 ],
 "metadata": {
  "kernelspec": {
   "display_name": "Python 2",
   "language": "python",
   "name": "python2"
  },
  "language_info": {
   "codemirror_mode": {
    "name": "ipython",
    "version": 2
   },
   "file_extension": ".py",
   "mimetype": "text/x-python",
   "name": "python",
   "nbconvert_exporter": "python",
   "pygments_lexer": "ipython2",
   "version": "2.7.11"
  }
 },
 "nbformat": 4,
 "nbformat_minor": 1
}
